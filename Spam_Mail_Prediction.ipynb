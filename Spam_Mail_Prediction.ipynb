{
  "nbformat": 4,
  "nbformat_minor": 0,
  "metadata": {
    "colab": {
      "name": "Spam Mail Prediction",
      "provenance": [],
      "authorship_tag": "ABX9TyOrFfbw7MXG6jFv7OT0f8ki",
      "include_colab_link": true
    },
    "kernelspec": {
      "name": "python3",
      "display_name": "Python 3"
    }
  },
  "cells": [
    {
      "cell_type": "markdown",
      "metadata": {
        "id": "view-in-github",
        "colab_type": "text"
      },
      "source": [
        "<a href=\"https://colab.research.google.com/github/Akshatpattiwar512/Perfect-Plan-B-Projects/blob/main/Spam_Mail_Prediction.ipynb\" target=\"_parent\"><img src=\"https://colab.research.google.com/assets/colab-badge.svg\" alt=\"Open In Colab\"/></a>"
      ]
    },
    {
      "cell_type": "code",
      "metadata": {
        "id": "z2PUGF5EA5nR"
      },
      "source": [
        "import numpy as np\r\n",
        "import pandas as pd\r\n",
        "from sklearn.model_selection import train_test_split\r\n",
        "from sklearn.feature_extraction.text import TfidfVectorizer\r\n",
        "from sklearn.svm import LinearSVC \r\n",
        "from sklearn.metrics import accuracy_score"
      ],
      "execution_count": 3,
      "outputs": []
    },
    {
      "cell_type": "markdown",
      "metadata": {
        "id": "7evmc9dNBrTf"
      },
      "source": [
        "Data Preprocessing"
      ]
    },
    {
      "cell_type": "code",
      "metadata": {
        "id": "-Iq5Pg27BhPZ"
      },
      "source": [
        "# load the dataset to pandas Data Frame\r\n",
        "raw_mail_data = pd.read_csv('spam.csv',encoding='latin-1')\r\n",
        "# replace null values with null strings\r\n",
        "mail_data = raw_mail_data.where((pd.notnull(raw_mail_data)), '')\r\n"
      ],
      "execution_count": 11,
      "outputs": []
    },
    {
      "cell_type": "code",
      "metadata": {
        "colab": {
          "base_uri": "https://localhost:8080/"
        },
        "id": "Tzwty1tyEDDX",
        "outputId": "4430d0e6-937a-4957-db18-ec0dbefe5914"
      },
      "source": [
        "mail_data.shape"
      ],
      "execution_count": 15,
      "outputs": [
        {
          "output_type": "execute_result",
          "data": {
            "text/plain": [
              "(5572, 5)"
            ]
          },
          "metadata": {
            "tags": []
          },
          "execution_count": 15
        }
      ]
    },
    {
      "cell_type": "code",
      "metadata": {
        "colab": {
          "base_uri": "https://localhost:8080/",
          "height": 195
        },
        "id": "UU6Wu0-oEj93",
        "outputId": "599bf0c1-07f4-46af-c4b6-f16a2ccd43db"
      },
      "source": [
        "mail_data.head() #sample data"
      ],
      "execution_count": 17,
      "outputs": [
        {
          "output_type": "execute_result",
          "data": {
            "text/html": [
              "<div>\n",
              "<style scoped>\n",
              "    .dataframe tbody tr th:only-of-type {\n",
              "        vertical-align: middle;\n",
              "    }\n",
              "\n",
              "    .dataframe tbody tr th {\n",
              "        vertical-align: top;\n",
              "    }\n",
              "\n",
              "    .dataframe thead th {\n",
              "        text-align: right;\n",
              "    }\n",
              "</style>\n",
              "<table border=\"1\" class=\"dataframe\">\n",
              "  <thead>\n",
              "    <tr style=\"text-align: right;\">\n",
              "      <th></th>\n",
              "      <th>v1</th>\n",
              "      <th>v2</th>\n",
              "      <th>Unnamed: 2</th>\n",
              "      <th>Unnamed: 3</th>\n",
              "      <th>Unnamed: 4</th>\n",
              "    </tr>\n",
              "  </thead>\n",
              "  <tbody>\n",
              "    <tr>\n",
              "      <th>0</th>\n",
              "      <td>ham</td>\n",
              "      <td>Go until jurong point, crazy.. Available only ...</td>\n",
              "      <td></td>\n",
              "      <td></td>\n",
              "      <td></td>\n",
              "    </tr>\n",
              "    <tr>\n",
              "      <th>1</th>\n",
              "      <td>ham</td>\n",
              "      <td>Ok lar... Joking wif u oni...</td>\n",
              "      <td></td>\n",
              "      <td></td>\n",
              "      <td></td>\n",
              "    </tr>\n",
              "    <tr>\n",
              "      <th>2</th>\n",
              "      <td>spam</td>\n",
              "      <td>Free entry in 2 a wkly comp to win FA Cup fina...</td>\n",
              "      <td></td>\n",
              "      <td></td>\n",
              "      <td></td>\n",
              "    </tr>\n",
              "    <tr>\n",
              "      <th>3</th>\n",
              "      <td>ham</td>\n",
              "      <td>U dun say so early hor... U c already then say...</td>\n",
              "      <td></td>\n",
              "      <td></td>\n",
              "      <td></td>\n",
              "    </tr>\n",
              "    <tr>\n",
              "      <th>4</th>\n",
              "      <td>ham</td>\n",
              "      <td>Nah I don't think he goes to usf, he lives aro...</td>\n",
              "      <td></td>\n",
              "      <td></td>\n",
              "      <td></td>\n",
              "    </tr>\n",
              "  </tbody>\n",
              "</table>\n",
              "</div>"
            ],
            "text/plain": [
              "     v1  ... Unnamed: 4\n",
              "0   ham  ...           \n",
              "1   ham  ...           \n",
              "2  spam  ...           \n",
              "3   ham  ...           \n",
              "4   ham  ...           \n",
              "\n",
              "[5 rows x 5 columns]"
            ]
          },
          "metadata": {
            "tags": []
          },
          "execution_count": 17
        }
      ]
    },
    {
      "cell_type": "code",
      "metadata": {
        "id": "FaES_P99EtRn"
      },
      "source": [
        "# label spam mail as 0 and non-spam mail as 1\r\n",
        "mail_data.loc[mail_data['v1']=='spam','v1',]=0\r\n",
        "mail_data.loc[mail_data['v1']=='ham','v1',]=1"
      ],
      "execution_count": 19,
      "outputs": []
    },
    {
      "cell_type": "code",
      "metadata": {
        "id": "QUrg2p8_FlM7"
      },
      "source": [
        "# separate the data as text and label, X--->text, y--->label\r\n",
        "X=mail_data['v2']\r\n",
        "y=mail_data['v1']"
      ],
      "execution_count": 20,
      "outputs": []
    },
    {
      "cell_type": "code",
      "metadata": {
        "colab": {
          "base_uri": "https://localhost:8080/"
        },
        "id": "jFIP8625FmZ3",
        "outputId": "8c1e9f2b-0109-41ff-ba80-d104570e4c39"
      },
      "source": [
        "print(X)\r\n",
        "print('----------------------------------------------------------')\r\n",
        "print(y)"
      ],
      "execution_count": 25,
      "outputs": [
        {
          "output_type": "stream",
          "text": [
            "0       Go until jurong point, crazy.. Available only ...\n",
            "1                           Ok lar... Joking wif u oni...\n",
            "2       Free entry in 2 a wkly comp to win FA Cup fina...\n",
            "3       U dun say so early hor... U c already then say...\n",
            "4       Nah I don't think he goes to usf, he lives aro...\n",
            "                              ...                        \n",
            "5567    This is the 2nd time we have tried 2 contact u...\n",
            "5568                Will Ì_ b going to esplanade fr home?\n",
            "5569    Pity, * was in mood for that. So...any other s...\n",
            "5570    The guy did some bitching but I acted like i'd...\n",
            "5571                           Rofl. Its true to its name\n",
            "Name: v2, Length: 5572, dtype: object\n",
            "----------------------------------------------------------\n",
            "0       1\n",
            "1       1\n",
            "2       0\n",
            "3       1\n",
            "4       1\n",
            "       ..\n",
            "5567    0\n",
            "5568    1\n",
            "5569    1\n",
            "5570    1\n",
            "5571    1\n",
            "Name: v1, Length: 5572, dtype: object\n"
          ],
          "name": "stdout"
        }
      ]
    },
    {
      "cell_type": "markdown",
      "metadata": {
        "id": "o08oUh-MGeAw"
      },
      "source": [
        "Test Train Split"
      ]
    },
    {
      "cell_type": "code",
      "metadata": {
        "id": "zHs_plnqFmXL"
      },
      "source": [
        "# split the data as train data and test data\r\n",
        "X_train, X_test, y_train,y_test= train_test_split(X,y,train_size=0.8,test_size=0.2,random_state=3)"
      ],
      "execution_count": 28,
      "outputs": []
    },
    {
      "cell_type": "markdown",
      "metadata": {
        "id": "R1InKO4uG679"
      },
      "source": [
        "Feature Extraction"
      ]
    },
    {
      "cell_type": "code",
      "metadata": {
        "id": "UrgJrvKCFmU1"
      },
      "source": [
        "# transform the data to featur vectors that can be used to the nSVM model using TfidfVectorizer\r\n",
        "# convert the text to lower case letters\r\n",
        "feature_extraction=TfidfVectorizer(min_df=1, stop_words='english', lowercase=\"True\")\r\n",
        "X_train_feature=feature_extraction.fit_transform(X_train)\r\n",
        "X_test_features=feature_extraction.transform(X_test)\r\n",
        "\r\n",
        "# convert y_train and y_test values as integers\r\n",
        "y_train=y_train.astype('int')\r\n",
        "y_test=y_test.astype('int')"
      ],
      "execution_count": 29,
      "outputs": []
    },
    {
      "cell_type": "markdown",
      "metadata": {
        "id": "ZE9vjeagH5ev"
      },
      "source": [
        "Training the model ===>**Support Vector Machine**"
      ]
    },
    {
      "cell_type": "code",
      "metadata": {
        "colab": {
          "base_uri": "https://localhost:8080/"
        },
        "id": "rRYcN-9DFmSS",
        "outputId": "4e19eaf1-7faa-4573-99cf-74522b466ed1"
      },
      "source": [
        "#training the support vector machine with training data\r\n",
        "model=LinearSVC()\r\n",
        "model.fit(X_train_feature,y_train)"
      ],
      "execution_count": 31,
      "outputs": [
        {
          "output_type": "execute_result",
          "data": {
            "text/plain": [
              "LinearSVC(C=1.0, class_weight=None, dual=True, fit_intercept=True,\n",
              "          intercept_scaling=1, loss='squared_hinge', max_iter=1000,\n",
              "          multi_class='ovr', penalty='l2', random_state=None, tol=0.0001,\n",
              "          verbose=0)"
            ]
          },
          "metadata": {
            "tags": []
          },
          "execution_count": 31
        }
      ]
    },
    {
      "cell_type": "markdown",
      "metadata": {
        "id": "ylEiEGorIXwo"
      },
      "source": [
        "Evaluation of the Model"
      ]
    },
    {
      "cell_type": "code",
      "metadata": {
        "id": "jVL_sPe_FmQM"
      },
      "source": [
        "# prediction of training data\r\n",
        "prediction_on_training_data=model.predict(X_train_feature)\r\n",
        "accuracy_on_training_data=accuracy_score(y_train,prediction_on_training_data)"
      ],
      "execution_count": 39,
      "outputs": []
    },
    {
      "cell_type": "code",
      "metadata": {
        "colab": {
          "base_uri": "https://localhost:8080/"
        },
        "id": "JCrI5urcFmNw",
        "outputId": "d7a4d298-3984-4fe6-e91c-1995d70f5431"
      },
      "source": [
        "print('Accuracy on training data:',accuracy_on_training_data)"
      ],
      "execution_count": 40,
      "outputs": [
        {
          "output_type": "stream",
          "text": [
            "Accuracy on training data: 0.9995512676688355\n"
          ],
          "name": "stdout"
        }
      ]
    },
    {
      "cell_type": "code",
      "metadata": {
        "id": "1bJCKthkI2jF"
      },
      "source": [
        "# predicion on test data\r\n",
        "prediction_on_test_data=model.predict(X_test_features)\r\n",
        "accuracy_on_test_data=accuracy_score(y_test,prediction_on_test_data)"
      ],
      "execution_count": 41,
      "outputs": []
    },
    {
      "cell_type": "code",
      "metadata": {
        "colab": {
          "base_uri": "https://localhost:8080/"
        },
        "id": "bq9PN7WYEf_J",
        "outputId": "a79ae9f6-8def-4c01-faba-72c3cd378931"
      },
      "source": [
        "print('Accuracy on test data:', accuracy_on_test_data)"
      ],
      "execution_count": 42,
      "outputs": [
        {
          "output_type": "stream",
          "text": [
            "Accuracy on test data: 0.9856502242152466\n"
          ],
          "name": "stdout"
        }
      ]
    },
    {
      "cell_type": "markdown",
      "metadata": {
        "id": "FwnsWUncJs5e"
      },
      "source": [
        "Prediction on new mail"
      ]
    },
    {
      "cell_type": "code",
      "metadata": {
        "colab": {
          "base_uri": "https://localhost:8080/"
        },
        "id": "r3QFfq0RJo-B",
        "outputId": "2b92ef0e-63aa-4606-a9ca-8efa8bd4d5a8"
      },
      "source": [
        "input_mail=[\"WINNER!! As a valued network customer you have been selected to receivea å£900 prize reward! To claim call 09061701461. Claim code KL341. Valid 12 hours only.,,,\"]\r\n",
        "# convert text to feature vectors\r\n",
        "input_mail_features=feature_extraction.transform(input_mail)\r\n",
        "\r\n",
        "#making prediction\r\n",
        "prediction=model.predict(input_mail_features)\r\n",
        "print(prediction)\r\n",
        "\r\n",
        "if (prediction[0]==1):\r\n",
        "  print('HAM MAIL')\r\n",
        "else:\r\n",
        "  print(\"SPAM MAIL\")"
      ],
      "execution_count": 46,
      "outputs": [
        {
          "output_type": "stream",
          "text": [
            "[0]\n",
            "SPAM MAIL\n"
          ],
          "name": "stdout"
        }
      ]
    },
    {
      "cell_type": "code",
      "metadata": {
        "id": "ZNixNEqIKMnB"
      },
      "source": [
        ""
      ],
      "execution_count": null,
      "outputs": []
    }
  ]
}